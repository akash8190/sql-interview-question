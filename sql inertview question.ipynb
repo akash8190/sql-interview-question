{
 "cells": [
  {
   "cell_type": "markdown",
   "id": "ebaddcc3",
   "metadata": {},
   "source": [
    "1- How to find duplicates in a table\n",
    "2- How to delete duplicates from a table\n",
    "3- Difference between union and union all\n",
    "4- Difference between rank,row_number and dense_rank\n",
    "5- Find records in a table which are not present in another table\n",
    "6- Find second highest salary employees in each department\n",
    "7- Find employees with salary more than their manager's salary\n",
    "8- Difference between inner and left join\n",
    "9- update a table and swap gender values.\n",
    "10- Number of records in output with different kinds of join.  please provide answer of this question"
   ]
  },
  {
   "cell_type": "markdown",
   "id": "f39e4af4",
   "metadata": {},
   "source": [
    "# 1- How to find duplicates in a table"
   ]
  },
  {
   "cell_type": "code",
   "execution_count": null,
   "id": "47e72ef5",
   "metadata": {},
   "outputs": [],
   "source": [
    "SELECT column_name, COUNT(*) as duplicate_count\n",
    "FROM table_name\n",
    "GROUP BY column_name\n",
    "HAVING COUNT(*) > 1;"
   ]
  },
  {
   "cell_type": "markdown",
   "id": "85ec9fc0",
   "metadata": {},
   "source": [
    "# How to delete duplicates from a table"
   ]
  },
  {
   "cell_type": "code",
   "execution_count": null,
   "id": "adc8effd",
   "metadata": {},
   "outputs": [],
   "source": [
    "DELETE FROM table_name\n",
    "WHERE column_name IN (\n",
    "    SELECT column_name\n",
    "    FROM table_name\n",
    "    GROUP BY column_name\n",
    "    HAVING COUNT(*) > 1\n",
    ");"
   ]
  },
  {
   "cell_type": "markdown",
   "id": "4ac13541",
   "metadata": {},
   "source": [
    "# Difference between union and union all"
   ]
  },
  {
   "cell_type": "markdown",
   "id": "b8d5fa23",
   "metadata": {},
   "source": [
    "The UNION operator combines the result sets of two or more SELECT statements, removing duplicate rows. On the other hand, the UNION ALL operator also combines the result sets of SELECT statements but does not remove duplicates, including all rows from each SELECT statement."
   ]
  },
  {
   "cell_type": "markdown",
   "id": "58fd4c71",
   "metadata": {},
   "source": [
    "# Difference between rank,row_number and dense_rank"
   ]
  },
  {
   "cell_type": "markdown",
   "id": "69300f05",
   "metadata": {},
   "source": [
    "ROW_NUMBER assigns a unique number to each row in the result set, without gaps or repetitions.\n",
    "RANK assigns a unique rank to each row, but may result in gaps if two or more rows have the same ranking. The next rank is then incremented by the number of tied rows.\n",
    "DENSE_RANK assigns a unique rank to each row, similar to RANK, but without gaps. It does not increment the rank for tied rows."
   ]
  },
  {
   "cell_type": "markdown",
   "id": "98e303dd",
   "metadata": {},
   "source": [
    "# Find records in a table which are not present in another table"
   ]
  },
  {
   "cell_type": "code",
   "execution_count": null,
   "id": "cd2d014c",
   "metadata": {},
   "outputs": [],
   "source": [
    "SELECT *\n",
    "FROM table1\n",
    "WHERE NOT EXISTS (\n",
    "    SELECT *\n",
    "    FROM table2\n",
    "    WHERE table1.column = table2.column\n",
    ");\n"
   ]
  },
  {
   "cell_type": "markdown",
   "id": "fdaa5809",
   "metadata": {},
   "source": [
    "# Find second highest salary employees in each department"
   ]
  },
  {
   "cell_type": "code",
   "execution_count": null,
   "id": "53c3eaa7",
   "metadata": {},
   "outputs": [],
   "source": [
    "SELECT department, employee, salary\n",
    "FROM (\n",
    "    SELECT department, employee, salary, RANK() OVER (PARTITION BY department ORDER BY salary DESC) as rank\n",
    "    FROM employees\n",
    ") AS ranked_employees\n",
    "WHERE rank = 2;\n"
   ]
  },
  {
   "cell_type": "markdown",
   "id": "2061817f",
   "metadata": {},
   "source": [
    "# Find employees with salary more than their manager's salary"
   ]
  },
  {
   "cell_type": "code",
   "execution_count": null,
   "id": "e6d98a15",
   "metadata": {},
   "outputs": [],
   "source": [
    "SELECT e.employee, e.salary\n",
    "FROM employees e\n",
    "JOIN employees m ON e.manager_id = m.employee_id\n",
    "WHERE e.salary > m.salary;\n"
   ]
  },
  {
   "cell_type": "markdown",
   "id": "4778bddd",
   "metadata": {},
   "source": [
    "# Difference between inner and left join"
   ]
  },
  {
   "cell_type": "markdown",
   "id": "368e24ae",
   "metadata": {},
   "source": [
    "INNER JOIN returns only the matching rows between the tables based on the specified join condition.\n",
    "LEFT JOIN returns all the rows from the left (first) table and the matching rows from the right (second) table based on the join condition. If there is no match, NULL values are included for the right table"
   ]
  },
  {
   "cell_type": "markdown",
   "id": "be3905ca",
   "metadata": {},
   "source": [
    "# update a table and swap gender values."
   ]
  },
  {
   "cell_type": "code",
   "execution_count": null,
   "id": "f162dda1",
   "metadata": {},
   "outputs": [],
   "source": [
    "UPDATE YourTable\n",
    "SET Gender = CASE\n",
    "    WHEN Gender = 'Male' THEN 'Female'\n",
    "    WHEN Gender = 'Female' THEN 'Male'\n",
    "    ELSE Gender\n",
    "END;\n"
   ]
  },
  {
   "cell_type": "markdown",
   "id": "2906f3ca",
   "metadata": {},
   "source": [
    "# Number of records in output with different kinds of join.  please provide answer of this question"
   ]
  },
  {
   "cell_type": "markdown",
   "id": "0a23cfc2",
   "metadata": {},
   "source": [
    "INNER JOIN: The number of records in the output will be the number of matching records between the joined tables. Only the records that satisfy the join condition are included in the result.\n",
    "\n",
    "LEFT JOIN (or LEFT OUTER JOIN): The number of records in the output will be equal to the number of records in the left (first) table. All records from the left table are included, and if there is a match with the right (second) table based on the join condition, the corresponding records are included as well. If there is no match, NULL values are included for the right table.\n",
    "\n",
    "RIGHT JOIN (or RIGHT OUTER JOIN): The number of records in the output will be equal to the number of records in the right (second) table. All records from the right table are included, and if there is a match with the left (first) table based on the join condition, the corresponding records are included. If there is no match, NULL values are included for the left table.\n",
    "\n",
    "FULL JOIN (or FULL OUTER JOIN): The number of records in the output will be the combination of records from both tables. It includes all records from both the left and right tables, and if there is a match based on the join condition, the corresponding records are included. If there is no match, NULL values are included for the non-matching table.\n",
    "\n",
    "It's important to note that the specific join conditions and the data in the tables will determine the actual number of records in the output for each type of join."
   ]
  },
  {
   "cell_type": "code",
   "execution_count": null,
   "id": "129081ee",
   "metadata": {},
   "outputs": [],
   "source": []
  },
  {
   "cell_type": "markdown",
   "id": "10fa2bff",
   "metadata": {},
   "source": [
    "# Consider a table named \"Orders\" with the following columns: OrderID, OrderDate, CustomerID. Write a SQL query to find the customers who have placed orders on consecutive days."
   ]
  },
  {
   "cell_type": "code",
   "execution_count": null,
   "id": "2616ea45",
   "metadata": {},
   "outputs": [],
   "source": [
    "SELECT DISTINCT CustomerID\n",
    "FROM (\n",
    "    SELECT CustomerID, OrderDate, LAG(OrderDate) OVER (PARTITION BY CustomerID ORDER BY OrderDate) AS PrevOrderDate\n",
    "    FROM Orders\n",
    ") AS consecutive_orders\n",
    "WHERE DATEDIFF(OrderDate, PrevOrderDate) = 1;\n"
   ]
  },
  {
   "cell_type": "markdown",
   "id": "88b146c5",
   "metadata": {},
   "source": [
    "1. Basic SQL Syntax:\n",
    "SQL keywords\n",
    "Data types\n",
    "Operators\n",
    "SQL statements (SELECT, INSERT, UPDATE, DELETE)\n",
    "\n",
    "2. Data Definition Language (DDL):\n",
    "CREATE TABLE\n",
    "ALTER TABLE\n",
    "DROP TABLE\n",
    "Truncate table\n",
    "\n",
    "3. Data Manipulation Language (DML):\n",
    "SELECT statement (SELECT, FROM, WHERE, ORDER BY, GROUP BY, HAVING, JOINs)\n",
    "INSERT statement\n",
    "UPDATE statement\n",
    "DELETE statement\n",
    "\n",
    "4. Aggregate Functions:\n",
    "SUM, AVG, COUNT, MIN, MAX\n",
    "GROUP BY clause\n",
    "HAVING clause\n",
    "\n",
    "5. Data Constraints:\n",
    "Primary Key\n",
    "Foreign Key\n",
    "Unique\n",
    "NOT NULL\n",
    "CHECK\n",
    "\n",
    "6. Joins:\n",
    "INNER JOIN\n",
    "LEFT JOIN\n",
    "RIGHT JOIN\n",
    "FULL OUTER JOIN\n",
    "Self Join\n",
    "Cross Join\n",
    "\n",
    "7. Subqueries:\n",
    "Types of subqueries (scalar, column, row, table)\n",
    "Nested subqueries\n",
    "Correlated subqueries\n",
    "\n",
    "8. Advanced SQL Functions:\n",
    "String functions (CONCAT, LENGTH, SUBSTRING, REPLACE, UPPER, LOWER)\n",
    "Date and time functions (DATE, TIME, TIMESTAMP, DATEPART, DATEADD)\n",
    "Numeric functions (ROUND, CEILING, FLOOR, ABS, MOD)\n",
    "Conditional functions (CASE, COALESCE, NULLIF)\n",
    "\n",
    "9. Views:\n",
    "Creating views\n",
    "Modifying views\n",
    "Dropping views\n",
    "\n",
    "10. Indexes:\n",
    "Creating indexes\n",
    "Using indexes for query optimization\n",
    "\n",
    "11. Transactions:\n",
    "ACID properties\n",
    "Transaction management (BEGIN, COMMIT, ROLLBACK, SAVEPOINT)\n",
    "Transaction isolation levels\n",
    "\n",
    "12. Data Integrity and Security:\n",
    "Data integrity constraints (referential integrity, entity integrity)\n",
    "GRANT and REVOKE statements (granting and revoking permissions)\n",
    "Database security best practices\n",
    "\n",
    "13. Stored Procedures and Functions:\n",
    "Creating stored procedures\n",
    "Executing stored procedures\n",
    "Creating functions\n",
    "Using functions in queries\n",
    "\n",
    "14. Performance Optimization:\n",
    "Query optimization techniques (using indexes, optimizing joins, reducing subqueries)\n",
    "Performance tuning best practices\n",
    "\n",
    "15. Advanced SQL Concepts:\n",
    "Recursive queries\n",
    "Pivot and unpivot operations\n",
    "Window functions (Row_number, rank, dense_rank, lead & lag)\n",
    "CTEs (Common Table Expressions)\n",
    "Dynamic SQL"
   ]
  },
  {
   "cell_type": "code",
   "execution_count": null,
   "id": "ca27cbb6",
   "metadata": {},
   "outputs": [],
   "source": []
  },
  {
   "cell_type": "markdown",
   "id": "a2f951e0",
   "metadata": {},
   "source": [
    "# important sql  interview question"
   ]
  },
  {
   "cell_type": "markdown",
   "id": "3d52e3cc",
   "metadata": {},
   "source": [
    "What are the different types of SQL joins and when would you use each one?\n",
    "What is the difference between INNER JOIN and OUTER JOIN in SQL?\n",
    "Explain the concept of normalization in database design and why it's important.\n",
    "What is a primary key and why is it used in a database?\n",
    "Explain the difference between UNION and UNION ALL in SQL.\n",
    "How do you create a new table in SQL? Provide an example.\n",
    "What is a subquery in SQL and how can it be used in a query?\n",
    "Explain the concept of indexing in databases and how it can improve query performance.\n",
    "How do you retrieve the top N records from a table in SQL?\n",
    "What are stored procedures and functions in SQL, and how do they differ?\n",
    "Explain the difference between VARCHAR and CHAR data types in SQL.\n",
    "How do you calculate the average, sum, minimum, and maximum values of a column in SQL?\n",
    "What is a foreign key and how is it used in a database?\n",
    "Explain the concept of ACID properties in the context of database transactions.\n",
    "What is the purpose of the GROUP BY clause in SQL and how does it work?\n",
    "How do you add, modify, and delete data in a table using SQL?\n",
    "Explain the concept of NULL in SQL and how it's handled in queries.\n",
    "What is a view in SQL and why would you use it?\n",
    "How do you retrieve data from multiple tables using JOINs in SQL?\n",
    "Explain the difference between a clustered and a non-clustered index in SQL.\n",
    "What are triggers in SQL and how do they work?\n",
    "How do you handle duplicate records in a table using SQL?\n",
    "Explain the difference between a candidate key, primary key, and super key in database design.\n",
    "How do you concatenate strings in SQL?\n",
    "What is the purpose of the HAVING clause in SQL and how does it differ from the WHERE clause?\n",
    "Explain the concept of a self-join in SQL and when it might be used.\n",
    "How do you perform data aggregation across multiple groups in SQL?\n",
    "Explain the difference between a database and a schema in SQL.\n",
    "How do you retrieve data from a table in a random order in SQL?\n",
    "What is the purpose of the ORDER BY clause in SQL and how does it work?\n",
    "What are window functions? Explain with examples.\n",
    "How do you perform string manipulation and pattern matching in SQL?\n",
    "Explain the difference between a left outer join and a right outer join in SQL.\n",
    "What are the different types of subqueries in SQL and how are they used?\n",
    "How do you find and remove duplicate records from a table in SQL?\n",
    "Explain the concept of a materialized view in SQL and how it differs from a regular view.\n",
    "How do you perform data validation and data cleansing in SQL?\n",
    "Explain the difference between a transaction and a savepoint in SQL.\n",
    "What is a schema in SQL and why is it used?\n",
    "How do you calculate the difference between two dates in SQL?\n",
    "Explain the concept of a composite key in database design and when it might be used.\n",
    "What is a temporary table in SQL and how is it used?"
   ]
  },
  {
   "cell_type": "markdown",
   "id": "d92bc34f",
   "metadata": {},
   "source": [
    "# medium level sql interview question"
   ]
  },
  {
   "cell_type": "markdown",
   "id": "e851616e",
   "metadata": {},
   "source": [
    "\n",
    "1-Write a SQL query to find the second highest salary from an \"Employees\" table\n",
    "2-Write a SQL query to display the top 5 customers with the highest total revenue.\n",
    "3-Write a SQL query to list the number of orders placed by each customer in the year 2022.\n",
    "4-Write a SQL query to find the average salary of employees for each department in a \"Employees\" table.\n",
    "5-Write a SQL query to find the names of all customers who have placed at least one order for more than $1000.\n",
    "6-Write a SQL query to list the top 3 most popular products (by the number of orders) in the year 2022.\n",
    "7-Write a SQL query to find the names of all employees who have worked for more than 5 years.\n",
    "8-Write a SQL query to list all orders that have at least one product with a price greater than $100.\n",
    "9-Write a SQL query to find the number of customers who have not placed any orders in the year 2022\n",
    "10-Write a SQL query to find the average number of orders placed by each customer."
   ]
  },
  {
   "cell_type": "markdown",
   "id": "f4ec8816",
   "metadata": {},
   "source": [
    "# Write a SQL query to display the top 5 customers with the highest total revenue."
   ]
  },
  {
   "cell_type": "code",
   "execution_count": null,
   "id": "8f9ec8ff",
   "metadata": {},
   "outputs": [],
   "source": [
    "SELECT CustomerID, SUM(Revenue) AS TotalRevenue\n",
    "FROM YourTable\n",
    "GROUP BY CustomerID\n",
    "ORDER BY TotalRevenue DESC\n",
    "LIMIT 5;\n"
   ]
  },
  {
   "cell_type": "markdown",
   "id": "d2c830ff",
   "metadata": {},
   "source": [
    "# Write a SQL query to list the number of orders placed by each customer in the year 2022."
   ]
  },
  {
   "cell_type": "code",
   "execution_count": null,
   "id": "ce968d90",
   "metadata": {},
   "outputs": [],
   "source": [
    "SELECT CustomerID, COUNT(OrderID) AS NumberOfOrders\n",
    "FROM YourTable\n",
    "WHERE YEAR(OrderDate) = 2022\n",
    "GROUP BY CustomerID;\n"
   ]
  },
  {
   "cell_type": "markdown",
   "id": "e72eac2d",
   "metadata": {},
   "source": [
    "# Write a SQL query to find the average salary of employees for each department in a \"Employees\" table."
   ]
  },
  {
   "cell_type": "code",
   "execution_count": null,
   "id": "0426578d",
   "metadata": {},
   "outputs": [],
   "source": [
    "SELECT DepartmentID, AVG(Salary) AS AverageSalary\n",
    "FROM Employees\n",
    "GROUP BY DepartmentID;\n"
   ]
  },
  {
   "cell_type": "markdown",
   "id": "4ed0e57a",
   "metadata": {},
   "source": [
    "# Write a SQL query to find the names of all customers who have placed at least one order for more than $1000."
   ]
  },
  {
   "cell_type": "code",
   "execution_count": null,
   "id": "6a452e23",
   "metadata": {},
   "outputs": [],
   "source": [
    "SELECT DISTINCT CustomerName\n",
    "FROM Customers c\n",
    "JOIN Orders o ON c.CustomerID = o.CustomerID\n",
    "WHERE o.OrderAmount > 1000;\n"
   ]
  },
  {
   "cell_type": "markdown",
   "id": "619393b5",
   "metadata": {},
   "source": [
    "# Write a SQL query to list the top 3 most popular products (by the number of orders) in the year 2022."
   ]
  },
  {
   "cell_type": "code",
   "execution_count": null,
   "id": "9025bbd0",
   "metadata": {},
   "outputs": [],
   "source": [
    "SELECT ProductID, COUNT(OrderID) AS NumberOfOrders\n",
    "FROM YourTable\n",
    "WHERE YEAR(OrderDate) = 2022\n",
    "GROUP BY ProductID\n",
    "ORDER BY NumberOfOrders DESC\n",
    "LIMIT 3;\n"
   ]
  },
  {
   "cell_type": "markdown",
   "id": "06d7fefe",
   "metadata": {},
   "source": [
    "# Write a SQL query to find the names of all employees who have worked for more than 5 years."
   ]
  },
  {
   "cell_type": "code",
   "execution_count": null,
   "id": "ae8a1730",
   "metadata": {},
   "outputs": [],
   "source": [
    "SELECT EmployeeName\n",
    "FROM Employees\n",
    "WHERE DATEDIFF(NOW(), HireDate) > 5 * 365;\n"
   ]
  },
  {
   "cell_type": "markdown",
   "id": "7d3d6680",
   "metadata": {},
   "source": [
    "# Write a SQL query to list all orders that have at least one product with a price greater than $100."
   ]
  },
  {
   "cell_type": "code",
   "execution_count": null,
   "id": "fd5474f5",
   "metadata": {},
   "outputs": [],
   "source": [
    "SELECT DISTINCT o.OrderID, o.OrderDate\n",
    "FROM Orders o\n",
    "JOIN OrderDetails od ON o.OrderID = od.OrderID\n",
    "JOIN Products p ON od.ProductID = p.ProductID\n",
    "WHERE p.Price > 100;\n"
   ]
  },
  {
   "cell_type": "markdown",
   "id": "af5598dd",
   "metadata": {},
   "source": [
    "# Write a SQL query to find the number of customers who have not placed any orders in the year 2022"
   ]
  },
  {
   "cell_type": "code",
   "execution_count": null,
   "id": "74eeb86f",
   "metadata": {},
   "outputs": [],
   "source": [
    "SELECT COUNT(*) AS NumberOfCustomers\n",
    "FROM Customers\n",
    "WHERE CustomerID NOT IN (\n",
    "    SELECT DISTINCT CustomerID\n",
    "    FROM Orders\n",
    "    WHERE YEAR(OrderDate) = 2022\n",
    ");\n"
   ]
  },
  {
   "cell_type": "markdown",
   "id": "45ac235b",
   "metadata": {},
   "source": [
    "# Write a SQL query to find the average number of orders placed by each customer."
   ]
  },
  {
   "cell_type": "code",
   "execution_count": null,
   "id": "847caf2a",
   "metadata": {},
   "outputs": [],
   "source": [
    "SELECT customer_id, AVG(order_count) AS average_orders\n",
    "FROM (\n",
    "  SELECT customer_id, COUNT(*) AS order_count\n",
    "  FROM orders\n",
    "  GROUP BY customer_id\n",
    ") AS subquery\n",
    "GROUP BY customer_id;\n"
   ]
  },
  {
   "cell_type": "markdown",
   "id": "49fbc482",
   "metadata": {},
   "source": [
    "# SQL query to find Nth highest salary from a salary table"
   ]
  },
  {
   "cell_type": "code",
   "execution_count": null,
   "id": "d3ecc88e",
   "metadata": {},
   "outputs": [],
   "source": [
    "SELECT salary\n",
    "FROM (\n",
    "  SELECT salary, ROW_NUMBER() OVER (ORDER BY salary DESC) AS row_num\n",
    "  FROM employees\n",
    "  ) AS subquery\n",
    "WHERE row_num = N;\n"
   ]
  }
 ],
 "metadata": {
  "kernelspec": {
   "display_name": "Python 3 (ipykernel)",
   "language": "python",
   "name": "python3"
  },
  "language_info": {
   "codemirror_mode": {
    "name": "ipython",
    "version": 3
   },
   "file_extension": ".py",
   "mimetype": "text/x-python",
   "name": "python",
   "nbconvert_exporter": "python",
   "pygments_lexer": "ipython3",
   "version": "3.10.9"
  }
 },
 "nbformat": 4,
 "nbformat_minor": 5
}
